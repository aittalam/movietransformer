{
 "cells": [
  {
   "cell_type": "markdown",
   "id": "fa56771e-9f59-4d7e-96d5-aba221897efd",
   "metadata": {},
   "source": [
    "# MovieTransformer\n",
    "\n",
    "A small experiment training a transformer to translate moviewarez filenames into actual movie titles. Still far from being complete, but hopefully a nice project to play with!\n",
    "\n",
    "Strongly based on the [Neural machine translation with a Transformer and Keras](https://www.tensorflow.org/text/tutorials/transformer) tutorial. \n",
    "\n",
    "Kudos to [OpenSubtitles](https://opensubtitles.org) for sharing their data!"
   ]
  },
  {
   "cell_type": "code",
   "execution_count": null,
   "id": "f597fa3d-e887-4739-a2ba-f711f3880d14",
   "metadata": {},
   "outputs": [],
   "source": [
    "!pip install tensorflow_datasets tensorflow tensorflow-text pandas"
   ]
  },
  {
   "cell_type": "code",
   "execution_count": 1,
   "id": "bca05946-e361-4af0-9984-c63feef4e0aa",
   "metadata": {},
   "outputs": [
    {
     "name": "stderr",
     "output_type": "stream",
     "text": [
      "2023-01-30 15:13:55.503684: I tensorflow/core/platform/cpu_feature_guard.cc:193] This TensorFlow binary is optimized with oneAPI Deep Neural Network Library (oneDNN) to use the following CPU instructions in performance-critical operations:  AVX2 FMA\n",
      "To enable them in other operations, rebuild TensorFlow with the appropriate compiler flags.\n"
     ]
    }
   ],
   "source": [
    "import logging\n",
    "import time\n",
    "\n",
    "import numpy as np\n",
    "import matplotlib.pyplot as plt\n",
    "\n",
    "import tensorflow_datasets as tfds\n",
    "import tensorflow as tf\n",
    "\n",
    "import tensorflow_text\n",
    "\n",
    "import pandas as pd"
   ]
  },
  {
   "cell_type": "markdown",
   "id": "25b4e39b-6967-4787-b4f4-579b41bbbe17",
   "metadata": {},
   "source": [
    "# Data"
   ]
  },
  {
   "cell_type": "markdown",
   "id": "8828de5e-b550-430f-b314-f8b7fde5a50e",
   "metadata": {},
   "source": [
    "## 0. Download dataset\n",
    "\n",
    "The following code downloads the full opensubtitles dataset (~300M). Smaller ones (`subtitles_day`, `subtitles_week`, and `subtitles_month`) are available too."
   ]
  },
  {
   "cell_type": "code",
   "execution_count": 7,
   "id": "f6b2eadf-52f7-4e9d-9eda-c587b0ba00fe",
   "metadata": {},
   "outputs": [
    {
     "name": "stdout",
     "output_type": "stream",
     "text": [
      "--2023-01-30 15:22:17--  http://dl.opensubtitles.org/addons/export/subtitles_all.txt.gz\n",
      "Resolving dl.opensubtitles.org (dl.opensubtitles.org)... 2606:4700:e0::ac40:6618, 2606:4700:e0::ac40:6718, 172.64.103.24, ...\n",
      "Connecting to dl.opensubtitles.org (dl.opensubtitles.org)|2606:4700:e0::ac40:6618|:80... connected.\n",
      "HTTP request sent, awaiting response... 200 OK\n",
      "Length: 318565459 (304M) [application/x-gzip]\n",
      "Saving to: ‘subtitles_all.txt.gz’\n",
      "\n",
      "subtitles_all.txt.g 100%[===================>] 303,81M  1021KB/s    in 6m 19s  \n",
      "\n",
      "2023-01-30 15:28:36 (821 KB/s) - ‘subtitles_all.txt.gz’ saved [318565459/318565459]\n",
      "\n"
     ]
    }
   ],
   "source": [
    "dataset_url = \"http://dl.opensubtitles.org/addons/export/subtitles_all.txt.gz\"\n",
    "dataset_fname = dataset_url.split(\"/\")[-1]\n",
    "\n",
    "!wget {dataset_url}\n",
    "!gunzip {dataset_fname}"
   ]
  },
  {
   "cell_type": "markdown",
   "id": "334ea7d4-acfa-4c5b-93db-8f9a4b98f80f",
   "metadata": {},
   "source": [
    "## 1. Import TSV file\n",
    "\n",
    "Here we import the data, which is saved in the txt file as tab-separated values. Note that the dataset contains some bad rows, so we just ignore them (but you will see a bunch of errors in this cell...)"
   ]
  },
  {
   "cell_type": "code",
   "execution_count": 8,
   "id": "b80c20c7-7320-4d49-8843-8d329f503b71",
   "metadata": {},
   "outputs": [
    {
     "name": "stderr",
     "output_type": "stream",
     "text": [
      "/var/folders/3w/1spf9bkn2gjbc8026chntkb80000gn/T/ipykernel_56483/579959582.py:1: FutureWarning: The error_bad_lines argument has been deprecated and will be removed in a future version. Use on_bad_lines in the future.\n",
      "\n",
      "\n",
      "  df = pd.read_csv('subtitles_all.txt', sep='\\t', error_bad_lines=False)\n",
      "Skipping line 2890: expected 16 fields, saw 17\n",
      "\n",
      "Skipping line 82417: expected 16 fields, saw 24\n",
      "Skipping line 88907: expected 16 fields, saw 17\n",
      "\n",
      "Skipping line 103205: expected 16 fields, saw 24\n",
      "\n",
      "Skipping line 141390: expected 16 fields, saw 17\n",
      "Skipping line 149209: expected 16 fields, saw 17\n",
      "\n",
      "Skipping line 184474: expected 16 fields, saw 17\n",
      "Skipping line 189187: expected 16 fields, saw 17\n",
      "\n",
      "Skipping line 213065: expected 16 fields, saw 17\n",
      "Skipping line 213813: expected 16 fields, saw 17\n",
      "\n",
      "Skipping line 244113: expected 16 fields, saw 17\n",
      "\n",
      "Skipping line 283930: expected 16 fields, saw 17\n",
      "Skipping line 291999: expected 16 fields, saw 17\n",
      "Skipping line 292180: expected 16 fields, saw 17\n",
      "Skipping line 292260: expected 16 fields, saw 17\n",
      "Skipping line 293000: expected 16 fields, saw 17\n",
      "Skipping line 294783: expected 16 fields, saw 17\n",
      "\n",
      "Skipping line 323131: expected 16 fields, saw 24\n",
      "\n",
      "Skipping line 334163: expected 16 fields, saw 24\n",
      "Skipping line 334819: expected 16 fields, saw 24\n",
      "Skipping line 335911: expected 16 fields, saw 24\n",
      "Skipping line 336726: expected 16 fields, saw 24\n",
      "Skipping line 338083: expected 16 fields, saw 24\n",
      "Skipping line 340544: expected 16 fields, saw 24\n",
      "Skipping line 340688: expected 16 fields, saw 24\n",
      "Skipping line 341481: expected 16 fields, saw 24\n",
      "Skipping line 341792: expected 16 fields, saw 24\n",
      "Skipping line 342574: expected 16 fields, saw 24\n",
      "Skipping line 342633: expected 16 fields, saw 24\n",
      "Skipping line 342652: expected 16 fields, saw 24\n",
      "Skipping line 342943: expected 16 fields, saw 24\n",
      "Skipping line 343254: expected 16 fields, saw 24\n",
      "Skipping line 343273: expected 16 fields, saw 24\n",
      "Skipping line 343638: expected 16 fields, saw 24\n",
      "Skipping line 344007: expected 16 fields, saw 24\n",
      "Skipping line 344264: expected 16 fields, saw 24\n",
      "Skipping line 344566: expected 16 fields, saw 24\n",
      "Skipping line 344687: expected 16 fields, saw 24\n",
      "Skipping line 344757: expected 16 fields, saw 24\n",
      "Skipping line 345434: expected 16 fields, saw 24\n",
      "Skipping line 347442: expected 16 fields, saw 24\n",
      "Skipping line 348372: expected 16 fields, saw 24\n",
      "Skipping line 349167: expected 16 fields, saw 24\n",
      "Skipping line 349221: expected 16 fields, saw 24\n",
      "Skipping line 349257: expected 16 fields, saw 24\n",
      "Skipping line 349764: expected 16 fields, saw 24\n",
      "Skipping line 349883: expected 16 fields, saw 24\n",
      "Skipping line 350190: expected 16 fields, saw 24\n",
      "Skipping line 350256: expected 16 fields, saw 24\n",
      "Skipping line 350765: expected 16 fields, saw 24\n",
      "Skipping line 350981: expected 16 fields, saw 24\n",
      "Skipping line 351194: expected 16 fields, saw 24\n",
      "Skipping line 351562: expected 16 fields, saw 24\n",
      "Skipping line 351929: expected 16 fields, saw 24\n",
      "Skipping line 352007: expected 16 fields, saw 24\n",
      "Skipping line 353818: expected 16 fields, saw 24\n",
      "Skipping line 354147: expected 16 fields, saw 24\n",
      "Skipping line 355884: expected 16 fields, saw 24\n",
      "Skipping line 356029: expected 16 fields, saw 24\n",
      "Skipping line 356104: expected 16 fields, saw 24\n",
      "Skipping line 356760: expected 16 fields, saw 24\n",
      "Skipping line 357490: expected 16 fields, saw 24\n",
      "Skipping line 357952: expected 16 fields, saw 24\n",
      "Skipping line 359019: expected 16 fields, saw 24\n",
      "\n",
      "Skipping line 387010: expected 16 fields, saw 17\n",
      "\n",
      "Skipping line 417235: expected 16 fields, saw 17\n",
      "Skipping line 420211: expected 16 fields, saw 17\n",
      "\n",
      "Skipping line 439598: expected 16 fields, saw 17\n",
      "\n",
      "Skipping line 758614: expected 16 fields, saw 17\n",
      "Skipping line 759716: expected 16 fields, saw 17\n",
      "\n",
      "Skipping line 1203571: expected 16 fields, saw 19\n",
      "\n",
      "Skipping line 1223832: expected 16 fields, saw 17\n",
      "\n",
      "Skipping line 1268668: expected 16 fields, saw 17\n",
      "\n",
      "Skipping line 1459009: expected 16 fields, saw 17\n",
      "\n",
      "Skipping line 1475552: expected 16 fields, saw 17\n",
      "Skipping line 1478698: expected 16 fields, saw 17\n",
      "\n",
      "Skipping line 1921179: expected 16 fields, saw 24\n",
      "\n",
      "Skipping line 2196325: expected 16 fields, saw 24\n",
      "Skipping line 2200514: expected 16 fields, saw 24\n",
      "Skipping line 2204091: expected 16 fields, saw 24\n",
      "Skipping line 2209322: expected 16 fields, saw 24\n",
      "Skipping line 2216478: expected 16 fields, saw 24\n",
      "Skipping line 2220419: expected 16 fields, saw 24\n",
      "Skipping line 2226964: expected 16 fields, saw 24\n",
      "\n",
      "Skipping line 2620422: expected 16 fields, saw 17\n",
      "\n",
      "Skipping line 2666201: expected 16 fields, saw 17\n",
      "\n",
      "Skipping line 2751399: expected 16 fields, saw 17\n",
      "\n",
      "Skipping line 2980831: expected 16 fields, saw 17\n",
      "\n",
      "Skipping line 2986542: expected 16 fields, saw 17\n",
      "\n",
      "Skipping line 3144024: expected 16 fields, saw 17\n",
      "\n",
      "Skipping line 3339655: expected 16 fields, saw 17\n",
      "\n",
      "Skipping line 3347216: expected 16 fields, saw 17\n",
      "\n",
      "Skipping line 3598401: expected 16 fields, saw 17\n",
      "\n",
      "Skipping line 3731769: expected 16 fields, saw 17\n",
      "\n",
      "Skipping line 3781539: expected 16 fields, saw 17\n",
      "\n",
      "Skipping line 3959118: expected 16 fields, saw 17\n",
      "\n",
      "Skipping line 4006471: expected 16 fields, saw 17\n",
      "\n",
      "Skipping line 4119142: expected 16 fields, saw 17\n",
      "\n",
      "Skipping line 4193245: expected 16 fields, saw 17\n",
      "\n",
      "Skipping line 4274817: expected 16 fields, saw 17\n",
      "\n",
      "Skipping line 4319642: expected 16 fields, saw 17\n",
      "\n",
      "Skipping line 4532695: expected 16 fields, saw 17\n",
      "\n",
      "Skipping line 4555018: expected 16 fields, saw 17\n",
      "\n",
      "Skipping line 4763572: expected 16 fields, saw 17\n",
      "\n",
      "Skipping line 5261508: expected 16 fields, saw 24\n",
      "\n",
      "Skipping line 5308521: expected 16 fields, saw 17\n",
      "\n",
      "Skipping line 5531161: expected 16 fields, saw 17\n",
      "\n",
      "Skipping line 5574140: expected 16 fields, saw 17\n",
      "\n",
      "Skipping line 5629727: expected 16 fields, saw 24\n",
      "\n",
      "Skipping line 5681286: expected 16 fields, saw 17\n",
      "Skipping line 5682024: expected 16 fields, saw 17\n",
      "\n",
      "/var/folders/3w/1spf9bkn2gjbc8026chntkb80000gn/T/ipykernel_56483/579959582.py:1: DtypeWarning: Columns (0,6) have mixed types. Specify dtype option on import or set low_memory=False.\n",
      "  df = pd.read_csv('subtitles_all.txt', sep='\\t', error_bad_lines=False)\n"
     ]
    }
   ],
   "source": [
    "df = pd.read_csv('subtitles_all.txt', sep='\\t', error_bad_lines=False)"
   ]
  },
  {
   "cell_type": "markdown",
   "id": "637b7f94-0afe-4eb3-9215-e4d71f44de3c",
   "metadata": {},
   "source": [
    "Let us see what the dataset looks like..."
   ]
  },
  {
   "cell_type": "code",
   "execution_count": 9,
   "id": "00fa09e8-d51d-4e20-8ccd-342223ef538f",
   "metadata": {},
   "outputs": [
    {
     "data": {
      "text/html": [
       "<div>\n",
       "<style scoped>\n",
       "    .dataframe tbody tr th:only-of-type {\n",
       "        vertical-align: middle;\n",
       "    }\n",
       "\n",
       "    .dataframe tbody tr th {\n",
       "        vertical-align: top;\n",
       "    }\n",
       "\n",
       "    .dataframe thead th {\n",
       "        text-align: right;\n",
       "    }\n",
       "</style>\n",
       "<table border=\"1\" class=\"dataframe\">\n",
       "  <thead>\n",
       "    <tr style=\"text-align: right;\">\n",
       "      <th></th>\n",
       "      <th>IDSubtitle</th>\n",
       "      <th>MovieName</th>\n",
       "      <th>MovieYear</th>\n",
       "      <th>LanguageName</th>\n",
       "      <th>ISO639</th>\n",
       "      <th>SubAddDate</th>\n",
       "      <th>ImdbID</th>\n",
       "      <th>SubFormat</th>\n",
       "      <th>SubSumCD</th>\n",
       "      <th>MovieReleaseName</th>\n",
       "      <th>MovieFPS</th>\n",
       "      <th>SeriesSeason</th>\n",
       "      <th>SeriesEpisode</th>\n",
       "      <th>SeriesIMDBParent</th>\n",
       "      <th>MovieKind</th>\n",
       "      <th>URL</th>\n",
       "    </tr>\n",
       "  </thead>\n",
       "  <tbody>\n",
       "    <tr>\n",
       "      <th>0</th>\n",
       "      <td>1</td>\n",
       "      <td>Alien3</td>\n",
       "      <td>1992.0</td>\n",
       "      <td>English</td>\n",
       "      <td>en</td>\n",
       "      <td>2004-10-31 23:54:23</td>\n",
       "      <td>103644</td>\n",
       "      <td>sub</td>\n",
       "      <td>2.0</td>\n",
       "      <td>Alien.3</td>\n",
       "      <td>11.000</td>\n",
       "      <td>0.0</td>\n",
       "      <td>0.0</td>\n",
       "      <td>0.0</td>\n",
       "      <td>movie</td>\n",
       "      <td>http://www.opensubtitles.org/subtitles/1/alien...</td>\n",
       "    </tr>\n",
       "    <tr>\n",
       "      <th>1</th>\n",
       "      <td>2</td>\n",
       "      <td>Identity</td>\n",
       "      <td>2003.0</td>\n",
       "      <td>Slovenian</td>\n",
       "      <td>sl</td>\n",
       "      <td>2004-10-31 23:54:23</td>\n",
       "      <td>309698</td>\n",
       "      <td>sub</td>\n",
       "      <td>1.0</td>\n",
       "      <td>Identity.DVDRiP.XViD</td>\n",
       "      <td>0.000</td>\n",
       "      <td>0.0</td>\n",
       "      <td>0.0</td>\n",
       "      <td>0.0</td>\n",
       "      <td>movie</td>\n",
       "      <td>http://www.opensubtitles.org/subtitles/2/ident...</td>\n",
       "    </tr>\n",
       "    <tr>\n",
       "      <th>2</th>\n",
       "      <td>3</td>\n",
       "      <td>Ghost in the Shell 2: Innocence</td>\n",
       "      <td>2004.0</td>\n",
       "      <td>English</td>\n",
       "      <td>en</td>\n",
       "      <td>2004-10-31 23:54:23</td>\n",
       "      <td>347246</td>\n",
       "      <td>srt</td>\n",
       "      <td>1.0</td>\n",
       "      <td>Innocence.2004.DVDRip.XviD</td>\n",
       "      <td>23.980</td>\n",
       "      <td>0.0</td>\n",
       "      <td>0.0</td>\n",
       "      <td>0.0</td>\n",
       "      <td>movie</td>\n",
       "      <td>http://www.opensubtitles.org/subtitles/3/ghost...</td>\n",
       "    </tr>\n",
       "    <tr>\n",
       "      <th>3</th>\n",
       "      <td>4</td>\n",
       "      <td>Planet of the Apes</td>\n",
       "      <td>2001.0</td>\n",
       "      <td>Slovenian</td>\n",
       "      <td>sl</td>\n",
       "      <td>2004-10-31 23:54:23</td>\n",
       "      <td>133152</td>\n",
       "      <td>sub</td>\n",
       "      <td>1.0</td>\n",
       "      <td>Planet.Of.The. Apes.XviD</td>\n",
       "      <td>0.000</td>\n",
       "      <td>0.0</td>\n",
       "      <td>0.0</td>\n",
       "      <td>0.0</td>\n",
       "      <td>movie</td>\n",
       "      <td>http://www.opensubtitles.org/subtitles/4/plane...</td>\n",
       "    </tr>\n",
       "    <tr>\n",
       "      <th>4</th>\n",
       "      <td>5</td>\n",
       "      <td>The City of Lost Children</td>\n",
       "      <td>1995.0</td>\n",
       "      <td>English</td>\n",
       "      <td>en</td>\n",
       "      <td>2004-11-01 20:11:53</td>\n",
       "      <td>112682</td>\n",
       "      <td>srt</td>\n",
       "      <td>2.0</td>\n",
       "      <td>The.City.Of.Lost.Children.1995.iNTERNAL.DVDRi...</td>\n",
       "      <td>23.976</td>\n",
       "      <td>0.0</td>\n",
       "      <td>0.0</td>\n",
       "      <td>0.0</td>\n",
       "      <td>movie</td>\n",
       "      <td>http://www.opensubtitles.org/subtitles/5/the-c...</td>\n",
       "    </tr>\n",
       "    <tr>\n",
       "      <th>...</th>\n",
       "      <td>...</td>\n",
       "      <td>...</td>\n",
       "      <td>...</td>\n",
       "      <td>...</td>\n",
       "      <td>...</td>\n",
       "      <td>...</td>\n",
       "      <td>...</td>\n",
       "      <td>...</td>\n",
       "      <td>...</td>\n",
       "      <td>...</td>\n",
       "      <td>...</td>\n",
       "      <td>...</td>\n",
       "      <td>...</td>\n",
       "      <td>...</td>\n",
       "      <td>...</td>\n",
       "      <td>...</td>\n",
       "    </tr>\n",
       "    <tr>\n",
       "      <th>5941101</th>\n",
       "      <td>9412705</td>\n",
       "      <td>The Last of Us Long Long Time</td>\n",
       "      <td>2023.0</td>\n",
       "      <td>French</td>\n",
       "      <td>fr</td>\n",
       "      <td>2023-01-30 09:04:22</td>\n",
       "      <td>14500888</td>\n",
       "      <td>srt</td>\n",
       "      <td>1.0</td>\n",
       "      <td>The.Last.of.Us.S01E03.Long.Long.Time.1080p.AMZ...</td>\n",
       "      <td>0.000</td>\n",
       "      <td>1.0</td>\n",
       "      <td>3.0</td>\n",
       "      <td>3581920.0</td>\n",
       "      <td>tv</td>\n",
       "      <td>http://www.opensubtitles.org/subtitles/9412705...</td>\n",
       "    </tr>\n",
       "    <tr>\n",
       "      <th>5941102</th>\n",
       "      <td>9412706</td>\n",
       "      <td>Trolley Episode #1.7</td>\n",
       "      <td>2023.0</td>\n",
       "      <td>German</td>\n",
       "      <td>de</td>\n",
       "      <td>2023-01-30 09:10:28</td>\n",
       "      <td>24787062</td>\n",
       "      <td>srt</td>\n",
       "      <td>1.0</td>\n",
       "      <td>Trolley.S01E07.The.Promise.1080p.NF.WEB-DL.DD...</td>\n",
       "      <td>23.976</td>\n",
       "      <td>1.0</td>\n",
       "      <td>7.0</td>\n",
       "      <td>24224842.0</td>\n",
       "      <td>tv</td>\n",
       "      <td>http://www.opensubtitles.org/subtitles/9412706...</td>\n",
       "    </tr>\n",
       "    <tr>\n",
       "      <th>5941103</th>\n",
       "      <td>9412707</td>\n",
       "      <td>Trolley Episode #1.8</td>\n",
       "      <td>2023.0</td>\n",
       "      <td>German</td>\n",
       "      <td>de</td>\n",
       "      <td>2023-01-30 09:10:45</td>\n",
       "      <td>24787064</td>\n",
       "      <td>srt</td>\n",
       "      <td>1.0</td>\n",
       "      <td>Trolley.S01E08.The.Right.Thing.To.Do.1080p.NF...</td>\n",
       "      <td>23.976</td>\n",
       "      <td>1.0</td>\n",
       "      <td>8.0</td>\n",
       "      <td>24224842.0</td>\n",
       "      <td>tv</td>\n",
       "      <td>http://www.opensubtitles.org/subtitles/9412707...</td>\n",
       "    </tr>\n",
       "    <tr>\n",
       "      <th>5941104</th>\n",
       "      <td>9412708</td>\n",
       "      <td>Chyby</td>\n",
       "      <td>2021.0</td>\n",
       "      <td>Hungarian</td>\n",
       "      <td>hu</td>\n",
       "      <td>2023-01-30 09:17:04</td>\n",
       "      <td>10757922</td>\n",
       "      <td>srt</td>\n",
       "      <td>1.0</td>\n",
       "      <td>Chyby.2021.1080p.WEBRip.CZ.5.1</td>\n",
       "      <td>24.000</td>\n",
       "      <td>0.0</td>\n",
       "      <td>0.0</td>\n",
       "      <td>0.0</td>\n",
       "      <td>movie</td>\n",
       "      <td>http://www.opensubtitles.org/subtitles/9412708...</td>\n",
       "    </tr>\n",
       "    <tr>\n",
       "      <th>5941105</th>\n",
       "      <td>9412709</td>\n",
       "      <td>Father Brown The Winds of Change</td>\n",
       "      <td>2023.0</td>\n",
       "      <td>Dutch</td>\n",
       "      <td>nl</td>\n",
       "      <td>2023-01-30 09:22:07</td>\n",
       "      <td>21616578</td>\n",
       "      <td>srt</td>\n",
       "      <td>1.0</td>\n",
       "      <td>Father Brown - S10E01 - The Winds of Change</td>\n",
       "      <td>25.000</td>\n",
       "      <td>10.0</td>\n",
       "      <td>1.0</td>\n",
       "      <td>2215842.0</td>\n",
       "      <td>tv</td>\n",
       "      <td>http://www.opensubtitles.org/subtitles/9412709...</td>\n",
       "    </tr>\n",
       "  </tbody>\n",
       "</table>\n",
       "<p>5941106 rows × 16 columns</p>\n",
       "</div>"
      ],
      "text/plain": [
       "        IDSubtitle                         MovieName  MovieYear LanguageName  \\\n",
       "0                1                            Alien3     1992.0      English   \n",
       "1                2                          Identity     2003.0    Slovenian   \n",
       "2                3   Ghost in the Shell 2: Innocence     2004.0      English   \n",
       "3                4                Planet of the Apes     2001.0    Slovenian   \n",
       "4                5         The City of Lost Children     1995.0      English   \n",
       "...            ...                               ...        ...          ...   \n",
       "5941101    9412705     The Last of Us Long Long Time     2023.0       French   \n",
       "5941102    9412706              Trolley Episode #1.7     2023.0       German   \n",
       "5941103    9412707              Trolley Episode #1.8     2023.0       German   \n",
       "5941104    9412708                             Chyby     2021.0    Hungarian   \n",
       "5941105    9412709  Father Brown The Winds of Change     2023.0        Dutch   \n",
       "\n",
       "        ISO639           SubAddDate    ImdbID SubFormat  SubSumCD  \\\n",
       "0           en  2004-10-31 23:54:23    103644       sub       2.0   \n",
       "1           sl  2004-10-31 23:54:23    309698       sub       1.0   \n",
       "2           en  2004-10-31 23:54:23    347246       srt       1.0   \n",
       "3           sl  2004-10-31 23:54:23    133152       sub       1.0   \n",
       "4           en  2004-11-01 20:11:53    112682       srt       2.0   \n",
       "...        ...                  ...       ...       ...       ...   \n",
       "5941101     fr  2023-01-30 09:04:22  14500888       srt       1.0   \n",
       "5941102     de  2023-01-30 09:10:28  24787062       srt       1.0   \n",
       "5941103     de  2023-01-30 09:10:45  24787064       srt       1.0   \n",
       "5941104     hu  2023-01-30 09:17:04  10757922       srt       1.0   \n",
       "5941105     nl  2023-01-30 09:22:07  21616578       srt       1.0   \n",
       "\n",
       "                                          MovieReleaseName  MovieFPS  \\\n",
       "0                                                  Alien.3    11.000   \n",
       "1                                     Identity.DVDRiP.XViD     0.000   \n",
       "2                               Innocence.2004.DVDRip.XviD    23.980   \n",
       "3                                 Planet.Of.The. Apes.XviD     0.000   \n",
       "4         The.City.Of.Lost.Children.1995.iNTERNAL.DVDRi...    23.976   \n",
       "...                                                    ...       ...   \n",
       "5941101  The.Last.of.Us.S01E03.Long.Long.Time.1080p.AMZ...     0.000   \n",
       "5941102   Trolley.S01E07.The.Promise.1080p.NF.WEB-DL.DD...    23.976   \n",
       "5941103   Trolley.S01E08.The.Right.Thing.To.Do.1080p.NF...    23.976   \n",
       "5941104                     Chyby.2021.1080p.WEBRip.CZ.5.1    24.000   \n",
       "5941105        Father Brown - S10E01 - The Winds of Change    25.000   \n",
       "\n",
       "         SeriesSeason  SeriesEpisode  SeriesIMDBParent MovieKind  \\\n",
       "0                 0.0            0.0               0.0     movie   \n",
       "1                 0.0            0.0               0.0     movie   \n",
       "2                 0.0            0.0               0.0     movie   \n",
       "3                 0.0            0.0               0.0     movie   \n",
       "4                 0.0            0.0               0.0     movie   \n",
       "...               ...            ...               ...       ...   \n",
       "5941101           1.0            3.0         3581920.0        tv   \n",
       "5941102           1.0            7.0        24224842.0        tv   \n",
       "5941103           1.0            8.0        24224842.0        tv   \n",
       "5941104           0.0            0.0               0.0     movie   \n",
       "5941105          10.0            1.0         2215842.0        tv   \n",
       "\n",
       "                                                       URL  \n",
       "0        http://www.opensubtitles.org/subtitles/1/alien...  \n",
       "1        http://www.opensubtitles.org/subtitles/2/ident...  \n",
       "2        http://www.opensubtitles.org/subtitles/3/ghost...  \n",
       "3        http://www.opensubtitles.org/subtitles/4/plane...  \n",
       "4        http://www.opensubtitles.org/subtitles/5/the-c...  \n",
       "...                                                    ...  \n",
       "5941101  http://www.opensubtitles.org/subtitles/9412705...  \n",
       "5941102  http://www.opensubtitles.org/subtitles/9412706...  \n",
       "5941103  http://www.opensubtitles.org/subtitles/9412707...  \n",
       "5941104  http://www.opensubtitles.org/subtitles/9412708...  \n",
       "5941105  http://www.opensubtitles.org/subtitles/9412709...  \n",
       "\n",
       "[5941106 rows x 16 columns]"
      ]
     },
     "execution_count": 9,
     "metadata": {},
     "output_type": "execute_result"
    }
   ],
   "source": [
    "df"
   ]
  },
  {
   "cell_type": "markdown",
   "id": "3323b356-3485-48ee-9f18-e9b953ab79a5",
   "metadata": {},
   "source": [
    "## 2. Clean data\n",
    "\n",
    "This section is devoted to cleaning the dataset so it is ready to be used for training.\n",
    "\n",
    "Note that the following is the bare minimum set of transformations which provide decent results, but there are plenty more that can be done to improve our model's performances (e.g. removing individual episode titles which do not appear in the filenames, add explicit text for year and season/episode info, etc)."
   ]
  },
  {
   "cell_type": "markdown",
   "id": "0ed25201-0e70-4ca9-a49d-bf72dff6409a",
   "metadata": {},
   "source": [
    "### 2.1 Filter columns, drop NaN cells, cast as string\n",
    "\n",
    "Here we only select the two columns we are interested in, then drop those rows where one of the field is Nan and make sure everything is a string"
   ]
  },
  {
   "cell_type": "code",
   "execution_count": 165,
   "id": "25137870-bfda-4de6-b3d7-65db22b3d3b9",
   "metadata": {},
   "outputs": [],
   "source": [
    "df = df[['MovieName', 'MovieReleaseName']].dropna().astype('string')"
   ]
  },
  {
   "cell_type": "markdown",
   "id": "afcda147-a967-4cc2-9164-85dfc3a9225e",
   "metadata": {},
   "source": [
    "### 2.2 Remove junk rows\n",
    "Some rows contain junky text such as `NO MOVIE TITLE YET (CLICK ON REPORT AND INSERT IMDB LINK)`, so we remove them (feel free to add whatever other checks seem reasonable to you here)"
   ]
  },
  {
   "cell_type": "code",
   "execution_count": 166,
   "id": "1ada5e7e-409e-4ec9-bbea-2152979b084f",
   "metadata": {},
   "outputs": [],
   "source": [
    "df = df.drop(df[df['MovieName'].str.contains(\"NO MOVIE\") | df['MovieReleaseName'].str.contains(\"NO MOVIE\")].index)"
   ]
  },
  {
   "cell_type": "markdown",
   "id": "2089d73c-6be2-4359-83de-6bb7f8387795",
   "metadata": {},
   "source": [
    "---\n",
    "We also drop the few lines which contain `\\t` or `\\n` in the movie or file name, so that we can use them as start- and end-of-sequence markers (yeah it is not ideal, but works for our simple use case and tokenizer) "
   ]
  },
  {
   "cell_type": "code",
   "execution_count": 167,
   "id": "7e34f40f-3ed0-4257-a1e3-f3d6a35109c7",
   "metadata": {},
   "outputs": [],
   "source": [
    "df = df.drop(df[df['MovieName'].str.contains(\"\\t\") | df['MovieReleaseName'].str.contains(\"\\t\")].index)\n",
    "df = df.drop(df[df['MovieName'].str.contains(\"\\n\") | df['MovieReleaseName'].str.contains(\"\\n\")].index)"
   ]
  },
  {
   "cell_type": "markdown",
   "id": "e5946516-1e3f-49ae-a92b-63ef7180e926",
   "metadata": {},
   "source": [
    "---\n",
    "Strip whitespace:"
   ]
  },
  {
   "cell_type": "code",
   "execution_count": 168,
   "id": "f9ef7c0f-a735-40ea-b430-5df867d342d0",
   "metadata": {},
   "outputs": [],
   "source": [
    "df['MovieName'] = df['MovieName'].str.strip()\n",
    "df['MovieReleaseName'] = df['MovieReleaseName'].str.strip()"
   ]
  },
  {
   "cell_type": "markdown",
   "id": "b76f4d4a-3f61-49aa-ab5f-9cc74ec3db6e",
   "metadata": {},
   "source": [
    "### 2.3 Add start and end characters\n",
    "\n",
    "The `UnicodeCharTokenizer` we will soon use does not have start/end tokens, so we are going to use tab and newline for that and manually add them to our strings"
   ]
  },
  {
   "cell_type": "code",
   "execution_count": 10,
   "id": "bc0f2d5c-e647-4cdb-a137-c009511cf5d1",
   "metadata": {},
   "outputs": [],
   "source": [
    "df['MovieName'] = df['MovieName'].map(\"\\t{}\\n\".format)\n",
    "df['MovieReleaseName'] = df['MovieReleaseName'].map(\"\\t{}\\n\".format)"
   ]
  },
  {
   "cell_type": "markdown",
   "id": "7fae740e-d02e-4d5d-a508-5ed5e481ead6",
   "metadata": {},
   "source": [
    "## 3. Build TF Dataset\n",
    "\n",
    "Ok, this is probably not the best way to do it (and we'll waste some time to shuffle the dataset more than once) but it does the job for now and is flexible enough to work (using a smaller `shuffle_size`) with less RAM."
   ]
  },
  {
   "cell_type": "code",
   "execution_count": 12,
   "id": "f5b94ea5-3ad8-41c8-b989-24031c475582",
   "metadata": {},
   "outputs": [
    {
     "name": "stdout",
     "output_type": "stream",
     "text": [
      "(<tf.Tensor: shape=(), dtype=string, numpy=b'\\t Alien.3\\n'>, <tf.Tensor: shape=(), dtype=string, numpy=b'\\tAlien3\\n'>)\n",
      "(<tf.Tensor: shape=(), dtype=string, numpy=b'\\t Identity.DVDRiP.XViD\\n'>, <tf.Tensor: shape=(), dtype=string, numpy=b'\\tIdentity\\n'>)\n",
      "(<tf.Tensor: shape=(), dtype=string, numpy=b'\\t Innocence.2004.DVDRip.XviD\\n'>, <tf.Tensor: shape=(), dtype=string, numpy=b'\\tGhost in the Shell 2: Innocence\\n'>)\n"
     ]
    }
   ],
   "source": [
    "feats = tf.data.Dataset.from_tensor_slices(df['MovieReleaseName'])\n",
    "labels = tf.data.Dataset.from_tensor_slices(df['MovieName'])\n",
    "ds = tf.data.Dataset.zip((feats, labels))\n",
    "\n",
    "for row in ds.take(3):\n",
    "    print(row)"
   ]
  },
  {
   "cell_type": "code",
   "execution_count": 15,
   "id": "e441f6e7-57ae-4eb1-a9fe-ecb834d2c8e8",
   "metadata": {},
   "outputs": [
    {
     "name": "stdout",
     "output_type": "stream",
     "text": [
      "[i] Dataset sizes for train, val, test:\n",
      "    5346995\n",
      "    588169\n",
      "    5942\n"
     ]
    }
   ],
   "source": [
    "# define a function to build partitions\n",
    "# NOTE that test split is tiny, for 2 reasons: \n",
    "#      1) We will just use it for qualitative evaluation\n",
    "#      2) The dataset is huge, so we will still end up with ~6K samples to play with\n",
    "\n",
    "def get_dataset_partitions_tf(ds, ds_size, train_split=0.9, val_split=0.099, test_split=0.001, \n",
    "                              shuffle=True, shuffle_size=10000, shuffle_seed=42):\n",
    "    assert (train_split + test_split + val_split) == 1\n",
    "    \n",
    "    if shuffle:\n",
    "        # Specify seed to always have the same split distribution between runs\n",
    "        ds = ds.shuffle(shuffle_size, seed=shuffle_seed)\n",
    "    \n",
    "    train_size = int(train_split * ds_size)\n",
    "    val_size = int(val_split * ds_size)\n",
    "    \n",
    "    train_ds = ds.take(train_size)    \n",
    "    val_ds = ds.skip(train_size).take(val_size)\n",
    "    test_ds = ds.skip(train_size).skip(val_size)\n",
    "    \n",
    "    return train_ds, val_ds, test_ds\n",
    "\n",
    "\n",
    "ds_size = int(ds.cardinality())\n",
    "train_ds, val_ds, test_ds = get_dataset_partitions_tf(ds, ds_size, shuffle_size=ds_size)\n",
    "\n",
    "print(\"[i] Dataset sizes for train, val, test:\")\n",
    "for dataset in (train_ds, val_ds, test_ds):\n",
    "    print(\"   \", int(dataset.cardinality()))"
   ]
  },
  {
   "cell_type": "code",
   "execution_count": 18,
   "id": "34dd691d-1a80-44bf-8693-51041053ab1d",
   "metadata": {},
   "outputs": [
    {
     "name": "stderr",
     "output_type": "stream",
     "text": [
      "2023-01-30 15:50:03.954274: I tensorflow/core/kernels/data/shuffle_dataset_op.cc:392] Filling up shuffle buffer (this may take a while): 3830314 of 5941106\n",
      "2023-01-30 15:50:09.417413: I tensorflow/core/kernels/data/shuffle_dataset_op.cc:417] Shuffle buffer filled.\n"
     ]
    },
    {
     "name": "stdout",
     "output_type": "stream",
     "text": [
      "> Examples of filenames:\n",
      "\tYing hung boon sik\n",
      "\n",
      "\t Blue.Miracle.2021.1080p.NF.WEB-DL.DDP5.1.Atmos.x264-EVO\n",
      "\n",
      "\t House - [1x07] - Fidelity\n",
      "\n",
      "\n",
      "> Examples of movie titles:\n",
      "\tA Better Tomorrow\n",
      "\n",
      "\tBlue Miracle\n",
      "\n",
      "\tHouse Fidelity\n",
      "\n"
     ]
    }
   ],
   "source": [
    "for filenames, movietitles in train_ds.batch(3).take(1):\n",
    "    print('> Examples of filenames:')\n",
    "    for fn in filenames.numpy():\n",
    "        print(fn.decode('utf-8'))\n",
    "\n",
    "    print('\\n> Examples of movie titles:')\n",
    "    for mt in movietitles.numpy():\n",
    "        print(mt.decode('utf-8'))"
   ]
  },
  {
   "cell_type": "markdown",
   "id": "984e7d13-9cd2-4622-8ae7-a483f9665ba5",
   "metadata": {},
   "source": [
    "# 4. Tokenizing and batching data\n",
    "\n",
    "To avoid messing up with different ways to split tokens (especially in filenames), we use the `UnicodeCharTokenizer` so every character is going to be a token for us. The vocabulary size for this tokenizer is 2^16, ie. 65536."
   ]
  },
  {
   "cell_type": "code",
   "execution_count": 19,
   "id": "7f02ef44-8f0d-4c9b-923f-bc32365f45d3",
   "metadata": {},
   "outputs": [],
   "source": [
    "tokenizer = tensorflow_text.UnicodeCharTokenizer()"
   ]
  },
  {
   "cell_type": "markdown",
   "id": "028c37c9-722d-421b-82af-39242b912fe2",
   "metadata": {},
   "source": [
    "---\n",
    "Here we take a few movie titles and tokenize them. Note that all the lists of tokens start and end with the same tokens (9 and 10, which correspond to `\\t` and `\\n`)"
   ]
  },
  {
   "cell_type": "code",
   "execution_count": 21,
   "id": "66d96d57-f9da-49f0-b8d6-2447d7ede131",
   "metadata": {},
   "outputs": [
    {
     "name": "stdout",
     "output_type": "stream",
     "text": [
      "> This is a batch of strings:\n",
      "\tA Better Tomorrow\n",
      "\n",
      "\tBlue Miracle\n",
      "\n",
      "\tHouse Fidelity\n",
      "\n",
      "> This is a padded-batch of token IDs:\n",
      "[9, 65, 32, 66, 101, 116, 116, 101, 114, 32, 84, 111, 109, 111, 114, 114, 111, 119, 10]\n",
      "[9, 66, 108, 117, 101, 32, 77, 105, 114, 97, 99, 108, 101, 10]\n",
      "[9, 72, 111, 117, 115, 101, 32, 70, 105, 100, 101, 108, 105, 116, 121, 10]\n"
     ]
    }
   ],
   "source": [
    "print('> This is a batch of strings:')\n",
    "for mt in movietitles.numpy():\n",
    "    print(mt.decode('utf-8'))\n",
    "    \n",
    "encoded = tokenizer.tokenize(movietitles)\n",
    "\n",
    "print('> This is a padded-batch of token IDs:')\n",
    "for row in encoded.to_list():\n",
    "    print(row)"
   ]
  },
  {
   "cell_type": "markdown",
   "id": "ad30b5c8-8322-4ac3-8329-84516541ab9a",
   "metadata": {},
   "source": [
    "---\n",
    "\n",
    "If we detokenize the token lists, we get the original strings:"
   ]
  },
  {
   "cell_type": "code",
   "execution_count": 22,
   "id": "380ab51c-2c96-4d52-9dfa-e03a75e4e817",
   "metadata": {},
   "outputs": [
    {
     "name": "stdout",
     "output_type": "stream",
     "text": [
      "> This is human-readable text:\n",
      "\tA Better Tomorrow\n",
      "\n",
      "\tBlue Miracle\n",
      "\n",
      "\tHouse Fidelity\n",
      "\n"
     ]
    }
   ],
   "source": [
    "round_trip = tokenizer.detokenize(encoded)\n",
    "\n",
    "print('> This is human-readable text:')\n",
    "for line in round_trip.numpy():\n",
    "    print(line.decode('utf-8'))"
   ]
  },
  {
   "cell_type": "markdown",
   "id": "1196852b-df57-48ff-9175-1628ecb6b167",
   "metadata": {},
   "source": [
    "---\n",
    "The following code is used to estimate the amount of tokens a sample typically contains.\n",
    "This helps us choose a threshold above which we can cut our input strings.\n",
    "\n",
    "Note that there are a few commented lines in the code below. If you uncomment them, the maximum possible token value will be estimated from the data itself. This estimation was useful to understand all values were encoded with two bytes (16 bits, max value 65535), but it is quite slow so I left it commented to save some time... Do not worry if all you see is a 0 at the end :-)"
   ]
  },
  {
   "cell_type": "code",
   "execution_count": 24,
   "id": "70f52ce1-d02e-4065-88f2-24f570df6c3e",
   "metadata": {},
   "outputs": [
    {
     "name": "stderr",
     "output_type": "stream",
     "text": [
      "2023-01-30 16:02:29.546910: I tensorflow/core/kernels/data/shuffle_dataset_op.cc:392] Filling up shuffle buffer (this may take a while): 3884946 of 5941106\n"
     ]
    },
    {
     "name": "stdout",
     "output_type": "stream",
     "text": [
      "......."
     ]
    },
    {
     "name": "stderr",
     "output_type": "stream",
     "text": [
      "2023-01-30 16:02:34.762072: I tensorflow/core/kernels/data/shuffle_dataset_op.cc:417] Shuffle buffer filled.\n"
     ]
    },
    {
     "name": "stdout",
     "output_type": "stream",
     "text": [
      "...........................................................................................0\n"
     ]
    }
   ],
   "source": [
    "lengths = []\n",
    "\n",
    "npmax = 0\n",
    "\n",
    "for pt_examples, en_examples in train_ds.take(100000).batch(1024):\n",
    "    pt_tokens = tokenizer.tokenize(pt_examples)\n",
    "    lengths.append(pt_tokens.row_lengths())\n",
    "    # npmax_ = np.max([np.max(i) for i in pt_tokens])\n",
    "    # npmax = npmax_ if npmax_ > npmax else npmax\n",
    "\n",
    "    en_tokens = tokenizer.tokenize(en_examples)\n",
    "    lengths.append(en_tokens.row_lengths())\n",
    "    # npmax_ = np.max([np.max(i) for i in en_tokens])\n",
    "    # npmax = npmax_ if npmax_ > npmax else npmax\n",
    "    print('.', end='', flush=True)\n",
    "    \n",
    "print(npmax)"
   ]
  },
  {
   "cell_type": "code",
   "execution_count": 25,
   "id": "c16451f1-4f52-4de0-96cc-71dfae8853a7",
   "metadata": {},
   "outputs": [
    {
     "data": {
      "image/png": "[encoded data removed]",
      "text/plain": [
       "<Figure size 640x480 with 1 Axes>"
      ]
     },
     "metadata": {},
     "output_type": "display_data"
    }
   ],
   "source": [
    "all_lengths = np.concatenate(lengths)\n",
    "\n",
    "plt.hist(all_lengths, np.linspace(0, 500, 101))\n",
    "plt.ylim(plt.ylim())\n",
    "max_length = max(all_lengths)\n",
    "plt.plot([max_length, max_length], plt.ylim())\n",
    "plt.title(f'Maximum tokens per example: {max_length}');"
   ]
  },
  {
   "cell_type": "markdown",
   "id": "b7836298-2e53-410b-a25b-63687fe679e6",
   "metadata": {},
   "source": [
    "As you can see in the plot above, while the max value of tokens per example is quite large (in my version of the dataset I get 693) almost all of the samples are below just a bit more than 100 tokens. For this reason, we can safely cut our strings to 128 characters and pad shorter strings with zeroes so that all the input token lists have the same length."
   ]
  },
  {
   "cell_type": "code",
   "execution_count": 28,
   "id": "c7a7122a-172f-4427-ab57-b1e764dea476",
   "metadata": {},
   "outputs": [],
   "source": [
    "MAX_TOKENS=128\n",
    "\n",
    "def prepare_batch(fn, mt):\n",
    "    fn = tokenizer.tokenize(fn)      # Output is ragged.\n",
    "    fn = fn[:, :MAX_TOKENS]    # Trim to MAX_TOKENS.\n",
    "    fn = fn.to_tensor()  # Convert to 0-padded dense Tensor\n",
    "\n",
    "    mt = tokenizer.tokenize(mt)\n",
    "    mt = mt[:, :(MAX_TOKENS+1)]\n",
    "    mt_inputs = mt[:, :-1].to_tensor()  # Drop the [END] tokens\n",
    "    mt_labels = mt[:, 1:].to_tensor()   # Drop the [START] tokens\n",
    "\n",
    "    return (fn, mt_inputs), mt_labels"
   ]
  },
  {
   "cell_type": "markdown",
   "id": "4868305e-ab4d-4631-a06c-eeddc051a1bb",
   "metadata": {},
   "source": [
    "---\n",
    "`make_batches` uses the `prepare_batch` function defined above to provide ready to use batches from a dataset (note the data is shuffled again, which is probably not needed):"
   ]
  },
  {
   "cell_type": "code",
   "execution_count": 31,
   "id": "2cdb4df1-1ede-4101-a3fd-c8bc71541a90",
   "metadata": {},
   "outputs": [],
   "source": [
    "BUFFER_SIZE = 20000\n",
    "BATCH_SIZE = 64\n",
    "\n",
    "def make_batches(ds):\n",
    "    return (\n",
    "      ds\n",
    "      .shuffle(BUFFER_SIZE)\n",
    "      .batch(BATCH_SIZE)\n",
    "      .map(prepare_batch, tf.data.AUTOTUNE)\n",
    "      .prefetch(buffer_size=tf.data.AUTOTUNE))\n",
    "\n",
    "train_batches = make_batches(train_ds)\n",
    "val_batches = make_batches(val_ds)"
   ]
  },
  {
   "cell_type": "markdown",
   "id": "1ec3d9d5-daba-4840-b701-c3d5c8ce92a8",
   "metadata": {},
   "source": [
    "# 5. Model definition\n",
    "\n",
    "The following code has been taken as is from Tensorflow's tutorial on transformers. I removed pictures and tests to save space, but I'd suggest you to [check it out](https://www.tensorflow.org/text/tutorials/transformer) if you want to understand how this model works!"
   ]
  },
  {
   "cell_type": "code",
   "execution_count": 44,
   "id": "a83796fe-ab6d-42d3-b4f4-af19552bae81",
   "metadata": {},
   "outputs": [],
   "source": [
    "def positional_encoding(length, depth):\n",
    "    depth = depth/2\n",
    "\n",
    "    positions = np.arange(length)[:, np.newaxis]     # (seq, 1)\n",
    "    depths = np.arange(depth)[np.newaxis, :]/depth   # (1, depth)\n",
    "\n",
    "    angle_rates = 1 / (10000**depths)         # (1, depth)\n",
    "    angle_rads = positions * angle_rates      # (pos, depth)\n",
    "\n",
    "    pos_encoding = np.concatenate(\n",
    "      [np.sin(angle_rads), np.cos(angle_rads)],\n",
    "      axis=-1) \n",
    "\n",
    "    return tf.cast(pos_encoding, dtype=tf.float32)"
   ]
  },
  {
   "cell_type": "code",
   "execution_count": 45,
   "id": "8e02f248-6fbd-4b66-ba55-891bdde7259f",
   "metadata": {},
   "outputs": [],
   "source": [
    "class PositionalEmbedding(tf.keras.layers.Layer):\n",
    "    def __init__(self, vocab_size, d_model):\n",
    "        super().__init__()\n",
    "        self.d_model = d_model\n",
    "        self.embedding = tf.keras.layers.Embedding(vocab_size, d_model, mask_zero=True) \n",
    "        self.pos_encoding = positional_encoding(length=2048, depth=d_model)\n",
    "\n",
    "    def compute_mask(self, *args, **kwargs):\n",
    "        return self.embedding.compute_mask(*args, **kwargs)\n",
    "\n",
    "    def call(self, x):\n",
    "        length = tf.shape(x)[1]\n",
    "        x = self.embedding(x)\n",
    "        # This factor sets the relative scale of the embedding and positonal_encoding.\n",
    "        x *= tf.math.sqrt(tf.cast(self.d_model, tf.float32))\n",
    "        x = x + self.pos_encoding[tf.newaxis, :length, :]\n",
    "        return x"
   ]
  },
  {
   "cell_type": "code",
   "execution_count": 46,
   "id": "a30fe748-b9d5-491e-a39d-0a992b8997a9",
   "metadata": {},
   "outputs": [],
   "source": [
    "class BaseAttention(tf.keras.layers.Layer):\n",
    "    def __init__(self, **kwargs):\n",
    "        super().__init__()\n",
    "        self.mha = tf.keras.layers.MultiHeadAttention(**kwargs)\n",
    "        self.layernorm = tf.keras.layers.LayerNormalization()\n",
    "        self.add = tf.keras.layers.Add()"
   ]
  },
  {
   "cell_type": "code",
   "execution_count": 47,
   "id": "cd491bcf-b58f-4204-855c-0122b848dfd2",
   "metadata": {},
   "outputs": [],
   "source": [
    "class CrossAttention(BaseAttention):\n",
    "    def call(self, x, context):\n",
    "        attn_output, attn_scores = self.mha(\n",
    "            query=x,\n",
    "            key=context,\n",
    "            value=context,\n",
    "            return_attention_scores=True)\n",
    "\n",
    "        # Cache the attention scores for plotting later.\n",
    "        self.last_attn_scores = attn_scores\n",
    "\n",
    "        x = self.add([x, attn_output])\n",
    "        x = self.layernorm(x)\n",
    "\n",
    "        return x"
   ]
  },
  {
   "cell_type": "code",
   "execution_count": 48,
   "id": "b0744b68-b939-4ad0-add4-6da6d9b4bed7",
   "metadata": {},
   "outputs": [],
   "source": [
    "class GlobalSelfAttention(BaseAttention):\n",
    "    def call(self, x):\n",
    "        attn_output = self.mha(\n",
    "            query=x,\n",
    "            value=x,\n",
    "            key=x)\n",
    "        x = self.add([x, attn_output])\n",
    "        x = self.layernorm(x)\n",
    "        return x"
   ]
  },
  {
   "cell_type": "code",
   "execution_count": 49,
   "id": "c4498f7e-900b-482e-a598-3acf293471ba",
   "metadata": {},
   "outputs": [],
   "source": [
    "class CausalSelfAttention(BaseAttention):\n",
    "    def call(self, x):\n",
    "        attn_output = self.mha(\n",
    "            query=x,\n",
    "            value=x,\n",
    "            key=x,\n",
    "            use_causal_mask = True)\n",
    "        x = self.add([x, attn_output])\n",
    "        x = self.layernorm(x)\n",
    "        return x"
   ]
  },
  {
   "cell_type": "code",
   "execution_count": 50,
   "id": "79faaafe-ca11-41fc-b806-3eee60d188f5",
   "metadata": {},
   "outputs": [],
   "source": [
    "class FeedForward(tf.keras.layers.Layer):\n",
    "    def __init__(self, d_model, dff, dropout_rate=0.1):\n",
    "        super().__init__()\n",
    "        self.seq = tf.keras.Sequential([\n",
    "          tf.keras.layers.Dense(dff, activation='relu'),\n",
    "          tf.keras.layers.Dense(d_model),\n",
    "          tf.keras.layers.Dropout(dropout_rate)\n",
    "        ])\n",
    "        self.add = tf.keras.layers.Add()\n",
    "        self.layer_norm = tf.keras.layers.LayerNormalization()\n",
    "\n",
    "    def call(self, x):\n",
    "        x = self.add([x, self.seq(x)])\n",
    "        x = self.layer_norm(x) \n",
    "        return x"
   ]
  },
  {
   "cell_type": "code",
   "execution_count": 51,
   "id": "722e6744-986d-4324-a852-95df1eb541c4",
   "metadata": {},
   "outputs": [],
   "source": [
    "class EncoderLayer(tf.keras.layers.Layer):\n",
    "    def __init__(self,*, d_model, num_heads, dff, dropout_rate=0.1):\n",
    "        super().__init__()\n",
    "\n",
    "        self.self_attention = GlobalSelfAttention(\n",
    "            num_heads=num_heads,\n",
    "            key_dim=d_model,\n",
    "            dropout=dropout_rate)\n",
    "\n",
    "        self.ffn = FeedForward(d_model, dff)\n",
    "\n",
    "    def call(self, x):\n",
    "        x = self.self_attention(x)\n",
    "        x = self.ffn(x)\n",
    "        return x"
   ]
  },
  {
   "cell_type": "code",
   "execution_count": 52,
   "id": "4664fe5b-fe64-4b55-b3a9-d14bb407d49b",
   "metadata": {},
   "outputs": [],
   "source": [
    "class Encoder(tf.keras.layers.Layer):\n",
    "    def __init__(self, *, num_layers, d_model, num_heads,\n",
    "               dff, vocab_size, dropout_rate=0.1):\n",
    "        super().__init__()\n",
    "\n",
    "        self.d_model = d_model\n",
    "        self.num_layers = num_layers\n",
    "\n",
    "        self.pos_embedding = PositionalEmbedding(\n",
    "            vocab_size=vocab_size, d_model=d_model)\n",
    "\n",
    "        self.enc_layers = [\n",
    "            EncoderLayer(d_model=d_model,\n",
    "                         num_heads=num_heads,\n",
    "                         dff=dff,\n",
    "                         dropout_rate=dropout_rate)\n",
    "            for _ in range(num_layers)]\n",
    "        self.dropout = tf.keras.layers.Dropout(dropout_rate)\n",
    "\n",
    "    def call(self, x):\n",
    "        # `x` is token-IDs shape: (batch, seq_len)\n",
    "        x = self.pos_embedding(x)  # Shape `(batch_size, seq_len, d_model)`.\n",
    "\n",
    "        # Add dropout.\n",
    "        x = self.dropout(x)\n",
    "\n",
    "        for i in range(self.num_layers):\n",
    "            x = self.enc_layers[i](x)\n",
    "\n",
    "        return x  # Shape `(batch_size, seq_len, d_model)`."
   ]
  },
  {
   "cell_type": "code",
   "execution_count": 53,
   "id": "94957da1-0d63-44cc-9f67-18c69dc5d02d",
   "metadata": {},
   "outputs": [],
   "source": [
    "class DecoderLayer(tf.keras.layers.Layer):\n",
    "    def __init__(self,\n",
    "                   *,\n",
    "                   d_model,\n",
    "                   num_heads,\n",
    "                   dff,\n",
    "                   dropout_rate=0.1):\n",
    "        super(DecoderLayer, self).__init__()\n",
    "\n",
    "        self.causal_self_attention = CausalSelfAttention(\n",
    "            num_heads=num_heads,\n",
    "            key_dim=d_model,\n",
    "            dropout=dropout_rate)\n",
    "\n",
    "        self.cross_attention = CrossAttention(\n",
    "            num_heads=num_heads,\n",
    "            key_dim=d_model,\n",
    "            dropout=dropout_rate)\n",
    "\n",
    "        self.ffn = FeedForward(d_model, dff)\n",
    "\n",
    "    def call(self, x, context):\n",
    "        x = self.causal_self_attention(x=x)\n",
    "        x = self.cross_attention(x=x, context=context)\n",
    "\n",
    "        # Cache the last attention scores for plotting later\n",
    "        self.last_attn_scores = self.cross_attention.last_attn_scores\n",
    "\n",
    "        x = self.ffn(x)  # Shape `(batch_size, seq_len, d_model)`.\n",
    "        return x"
   ]
  },
  {
   "cell_type": "code",
   "execution_count": 54,
   "id": "5922d961-b35b-4451-b036-48e710bf87c5",
   "metadata": {},
   "outputs": [],
   "source": [
    "class Decoder(tf.keras.layers.Layer):\n",
    "    def __init__(self, *, num_layers, d_model, num_heads, dff, vocab_size,\n",
    "                   dropout_rate=0.1):\n",
    "        super(Decoder, self).__init__()\n",
    "\n",
    "        self.d_model = d_model\n",
    "        self.num_layers = num_layers\n",
    "\n",
    "        self.pos_embedding = PositionalEmbedding(vocab_size=vocab_size,\n",
    "                                                 d_model=d_model)\n",
    "        self.dropout = tf.keras.layers.Dropout(dropout_rate)\n",
    "        self.dec_layers = [\n",
    "            DecoderLayer(d_model=d_model, num_heads=num_heads,\n",
    "                         dff=dff, dropout_rate=dropout_rate)\n",
    "            for _ in range(num_layers)]\n",
    "\n",
    "        self.last_attn_scores = None\n",
    "\n",
    "    def call(self, x, context):\n",
    "        # `x` is token-IDs shape (batch, target_seq_len)\n",
    "        x = self.pos_embedding(x)  # (batch_size, target_seq_len, d_model)\n",
    "\n",
    "        x = self.dropout(x)\n",
    "\n",
    "        for i in range(self.num_layers):\n",
    "            x  = self.dec_layers[i](x, context)\n",
    "\n",
    "        self.last_attn_scores = self.dec_layers[-1].last_attn_scores\n",
    "\n",
    "        # The shape of x is (batch_size, target_seq_len, d_model).\n",
    "        return x"
   ]
  },
  {
   "cell_type": "code",
   "execution_count": 55,
   "id": "8d9cb377-bfed-465b-bb93-419927826e29",
   "metadata": {},
   "outputs": [],
   "source": [
    "class Transformer(tf.keras.Model):\n",
    "    def __init__(self, *, num_layers, d_model, num_heads, dff,\n",
    "                   input_vocab_size, target_vocab_size, dropout_rate=0.1):\n",
    "        super().__init__()\n",
    "        self.encoder = Encoder(num_layers=num_layers, d_model=d_model,\n",
    "                               num_heads=num_heads, dff=dff,\n",
    "                               vocab_size=input_vocab_size,\n",
    "                               dropout_rate=dropout_rate)\n",
    "\n",
    "        self.decoder = Decoder(num_layers=num_layers, d_model=d_model,\n",
    "                               num_heads=num_heads, dff=dff,\n",
    "                               vocab_size=target_vocab_size,\n",
    "                               dropout_rate=dropout_rate)\n",
    "\n",
    "        self.final_layer = tf.keras.layers.Dense(target_vocab_size)\n",
    "\n",
    "    def call(self, inputs):\n",
    "        # To use a Keras model with `.fit` you must pass all your inputs in the\n",
    "        # first argument.\n",
    "        context, x  = inputs\n",
    "\n",
    "        context = self.encoder(context)  # (batch_size, context_len, d_model)\n",
    "        x = self.decoder(x, context)  # (batch_size, target_len, d_model)\n",
    "\n",
    "        # Final linear layer output.\n",
    "        logits = self.final_layer(x)  # (batch_size, target_len, target_vocab_size)\n",
    "\n",
    "        try:\n",
    "          # Drop the keras mask, so it doesn't scale the losses/metrics.\n",
    "          # b/250038731\n",
    "            del logits._keras_mask\n",
    "        except AttributeError:\n",
    "            pass\n",
    "\n",
    "        # Return the final output and the attention weights.\n",
    "        return logits"
   ]
  },
  {
   "cell_type": "code",
   "execution_count": 56,
   "id": "ae5893c3-a97c-4663-b4d5-5045a5c4a9cf",
   "metadata": {},
   "outputs": [],
   "source": [
    "num_layers = 4\n",
    "d_model = 128\n",
    "dff = 512\n",
    "num_heads = 8\n",
    "dropout_rate = 0.1"
   ]
  },
  {
   "cell_type": "code",
   "execution_count": 57,
   "id": "7f335ca7-24f5-4170-b8cd-1059377f237a",
   "metadata": {},
   "outputs": [],
   "source": [
    "transformer = Transformer(\n",
    "    num_layers=num_layers,\n",
    "    d_model=d_model,\n",
    "    num_heads=num_heads,\n",
    "    dff=dff,\n",
    "    input_vocab_size=65535,\n",
    "    target_vocab_size=65535,\n",
    "    dropout_rate=dropout_rate)"
   ]
  },
  {
   "cell_type": "code",
   "execution_count": 59,
   "id": "6ff4df29-7c9e-4208-a833-5c78bda83823",
   "metadata": {},
   "outputs": [
    {
     "name": "stdout",
     "output_type": "stream",
     "text": [
      "Model: \"transformer\"\n",
      "_________________________________________________________________\n",
      " Layer (type)                Output Shape              Param #   \n",
      "=================================================================\n",
      " encoder (Encoder)           multiple                  11027328  \n",
      "                                                                 \n",
      " decoder (Decoder)           multiple                  13138304  \n",
      "                                                                 \n",
      " dense_16 (Dense)            multiple                  8454015   \n",
      "                                                                 \n",
      "=================================================================\n",
      "Total params: 32,619,647\n",
      "Trainable params: 32,619,647\n",
      "Non-trainable params: 0\n",
      "_________________________________________________________________\n"
     ]
    }
   ],
   "source": [
    "transformer.summary()"
   ]
  },
  {
   "cell_type": "markdown",
   "id": "2400cd1f-e281-4c6e-8fe4-0318a04824a0",
   "metadata": {},
   "source": [
    "# 6. Define LR schedule, optimizer, and metrics"
   ]
  },
  {
   "cell_type": "code",
   "execution_count": 61,
   "id": "398b1470-38fa-4ae3-97c4-c83922019d4e",
   "metadata": {},
   "outputs": [],
   "source": [
    "class CustomSchedule(tf.keras.optimizers.schedules.LearningRateSchedule):\n",
    "    def __init__(self, d_model, warmup_steps=4000):\n",
    "        super().__init__()\n",
    "\n",
    "        self.d_model = d_model\n",
    "        self.d_model = tf.cast(self.d_model, tf.float32)\n",
    "\n",
    "        self.warmup_steps = warmup_steps\n",
    "\n",
    "    def __call__(self, step):\n",
    "        step = tf.cast(step, dtype=tf.float32)\n",
    "        arg1 = tf.math.rsqrt(step)\n",
    "        arg2 = step * (self.warmup_steps ** -1.5)\n",
    "\n",
    "        return tf.math.rsqrt(self.d_model) * tf.math.minimum(arg1, arg2)"
   ]
  },
  {
   "cell_type": "code",
   "execution_count": 62,
   "id": "eb3f42cc-595f-47ea-a34c-45518dbb1c17",
   "metadata": {},
   "outputs": [],
   "source": [
    "learning_rate = CustomSchedule(d_model)\n",
    "\n",
    "optimizer = tf.keras.optimizers.Adam(learning_rate, beta_1=0.9, beta_2=0.98,\n",
    "                                     epsilon=1e-9)"
   ]
  },
  {
   "cell_type": "code",
   "execution_count": 63,
   "id": "a91c586b-f5dd-48f2-a3a8-080e183b7009",
   "metadata": {},
   "outputs": [],
   "source": [
    "# plt.plot(learning_rate(tf.range(80000, dtype=tf.float32)))\n",
    "# plt.ylabel('Learning Rate')\n",
    "# plt.xlabel('Train Step')"
   ]
  },
  {
   "cell_type": "code",
   "execution_count": 64,
   "id": "2a196905-9ce9-41df-a2cc-b978559d1a36",
   "metadata": {},
   "outputs": [],
   "source": [
    "def masked_loss(label, pred):\n",
    "    mask = label != 0\n",
    "    loss_object = tf.keras.losses.SparseCategoricalCrossentropy(\n",
    "    from_logits=True, reduction='none')\n",
    "    loss = loss_object(label, pred)\n",
    "\n",
    "    mask = tf.cast(mask, dtype=loss.dtype)\n",
    "    loss *= mask\n",
    "\n",
    "    loss = tf.reduce_sum(loss)/tf.reduce_sum(mask)\n",
    "    return loss\n",
    "\n",
    "\n",
    "def masked_accuracy(label, pred):\n",
    "    pred = tf.argmax(pred, axis=2)\n",
    "    label = tf.cast(label, pred.dtype)\n",
    "    match = label == pred\n",
    "\n",
    "    mask = label != 0\n",
    "\n",
    "    match = match & mask\n",
    "\n",
    "    match = tf.cast(match, dtype=tf.float32)\n",
    "    mask = tf.cast(mask, dtype=tf.float32)\n",
    "    return tf.reduce_sum(match)/tf.reduce_sum(mask)"
   ]
  },
  {
   "cell_type": "markdown",
   "id": "c0897ea3-4462-42cc-990e-526c8a6be7ba",
   "metadata": {},
   "source": [
    "# 7. Train model\n",
    "\n",
    "Uncomment the `transformer.fit` cell below to train"
   ]
  },
  {
   "cell_type": "code",
   "execution_count": 65,
   "id": "53c2ee15-d52b-4156-a165-4c97217d2b5c",
   "metadata": {},
   "outputs": [],
   "source": [
    "transformer.compile(\n",
    "    loss=masked_loss,\n",
    "    optimizer=optimizer,\n",
    "    metrics=[masked_accuracy])"
   ]
  },
  {
   "cell_type": "code",
   "execution_count": 239,
   "id": "09cb0c96-0783-486d-9d28-8aadea3b9369",
   "metadata": {},
   "outputs": [
    {
     "name": "stdout",
     "output_type": "stream",
     "text": [
      "Epoch 1/3\n"
     ]
    },
    {
     "name": "stderr",
     "output_type": "stream",
     "text": [
      "2023-01-28 00:01:41.661644: I tensorflow/core/kernels/data/shuffle_dataset_op.cc:392] Filling up shuffle buffer (this may take a while): 1497349 of 5879992\n",
      "2023-01-28 00:01:51.661641: I tensorflow/core/kernels/data/shuffle_dataset_op.cc:392] Filling up shuffle buffer (this may take a while): 2993466 of 5879992\n",
      "2023-01-28 00:02:01.661642: I tensorflow/core/kernels/data/shuffle_dataset_op.cc:392] Filling up shuffle buffer (this may take a while): 4489460 of 5879992\n",
      "2023-01-28 00:02:10.943448: I tensorflow/core/kernels/data/shuffle_dataset_op.cc:417] Shuffle buffer filled.\n",
      "2023-01-28 00:02:10.943517: I tensorflow/core/kernels/data/shuffle_dataset_op.cc:392] Filling up shuffle buffer (this may take a while): 1 of 20000\n",
      "2023-01-28 00:02:10.943552: I tensorflow/core/kernels/data/shuffle_dataset_op.cc:392] Filling up shuffle buffer (this may take a while): 2 of 20000\n",
      "2023-01-28 00:02:10.943566: I tensorflow/core/kernels/data/shuffle_dataset_op.cc:392] Filling up shuffle buffer (this may take a while): 3 of 20000\n",
      "2023-01-28 00:02:11.057148: I tensorflow/core/kernels/data/shuffle_dataset_op.cc:417] Shuffle buffer filled.\n"
     ]
    },
    {
     "name": "stdout",
     "output_type": "stream",
     "text": [
      "82688/82688 [==============================] - ETA: 0s - loss: 0.6999 - masked_accuracy: 0.8064"
     ]
    },
    {
     "name": "stderr",
     "output_type": "stream",
     "text": [
      "2023-01-28 03:04:23.700289: I tensorflow/core/kernels/data/shuffle_dataset_op.cc:392] Filling up shuffle buffer (this may take a while): 1520983 of 5879992\n",
      "2023-01-28 03:04:33.700287: I tensorflow/core/kernels/data/shuffle_dataset_op.cc:392] Filling up shuffle buffer (this may take a while): 3044188 of 5879992\n",
      "2023-01-28 03:04:43.700287: I tensorflow/core/kernels/data/shuffle_dataset_op.cc:392] Filling up shuffle buffer (this may take a while): 4568413 of 5879992\n",
      "2023-01-28 03:04:52.321352: I tensorflow/core/kernels/data/shuffle_dataset_op.cc:417] Shuffle buffer filled.\n",
      "2023-01-28 03:05:02.839160: I tensorflow/core/kernels/data/shuffle_dataset_op.cc:392] Filling up shuffle buffer (this may take a while): 1 of 20000\n",
      "2023-01-28 03:05:02.839229: I tensorflow/core/kernels/data/shuffle_dataset_op.cc:392] Filling up shuffle buffer (this may take a while): 2 of 20000\n",
      "2023-01-28 03:05:02.839244: I tensorflow/core/kernels/data/shuffle_dataset_op.cc:392] Filling up shuffle buffer (this may take a while): 3 of 20000\n",
      "2023-01-28 03:05:02.839258: I tensorflow/core/kernels/data/shuffle_dataset_op.cc:392] Filling up shuffle buffer (this may take a while): 4 of 20000\n",
      "2023-01-28 03:05:02.981219: I tensorflow/core/kernels/data/shuffle_dataset_op.cc:417] Shuffle buffer filled.\n"
     ]
    },
    {
     "name": "stdout",
     "output_type": "stream",
     "text": [
      "82688/82688 [==============================] - 11697s 141ms/step - loss: 0.6999 - masked_accuracy: 0.8064 - val_loss: 0.5099 - val_masked_accuracy: 0.8514\n",
      "Epoch 2/3\n"
     ]
    },
    {
     "name": "stderr",
     "output_type": "stream",
     "text": [
      "2023-01-28 03:16:20.184706: I tensorflow/core/kernels/data/shuffle_dataset_op.cc:392] Filling up shuffle buffer (this may take a while): 1518701 of 5879992\n",
      "2023-01-28 03:16:30.184699: I tensorflow/core/kernels/data/shuffle_dataset_op.cc:392] Filling up shuffle buffer (this may take a while): 3037721 of 5879992\n",
      "2023-01-28 03:16:40.184696: I tensorflow/core/kernels/data/shuffle_dataset_op.cc:392] Filling up shuffle buffer (this may take a while): 4560204 of 5879992\n",
      "2023-01-28 03:16:48.855674: I tensorflow/core/kernels/data/shuffle_dataset_op.cc:417] Shuffle buffer filled.\n",
      "2023-01-28 03:16:48.855738: I tensorflow/core/kernels/data/shuffle_dataset_op.cc:392] Filling up shuffle buffer (this may take a while): 1 of 20000\n",
      "2023-01-28 03:16:48.855771: I tensorflow/core/kernels/data/shuffle_dataset_op.cc:392] Filling up shuffle buffer (this may take a while): 2 of 20000\n",
      "2023-01-28 03:16:48.855784: I tensorflow/core/kernels/data/shuffle_dataset_op.cc:392] Filling up shuffle buffer (this may take a while): 3 of 20000\n",
      "2023-01-28 03:16:48.966671: I tensorflow/core/kernels/data/shuffle_dataset_op.cc:417] Shuffle buffer filled.\n"
     ]
    },
    {
     "name": "stdout",
     "output_type": "stream",
     "text": [
      "82688/82688 [==============================] - ETA: 0s - loss: 0.5279 - masked_accuracy: 0.8457"
     ]
    },
    {
     "name": "stderr",
     "output_type": "stream",
     "text": [
      "2023-01-28 06:18:32.447848: I tensorflow/core/kernels/data/shuffle_dataset_op.cc:392] Filling up shuffle buffer (this may take a while): 1562013 of 5879992\n",
      "2023-01-28 06:18:42.447848: I tensorflow/core/kernels/data/shuffle_dataset_op.cc:392] Filling up shuffle buffer (this may take a while): 3019876 of 5879992\n",
      "2023-01-28 06:18:52.447855: I tensorflow/core/kernels/data/shuffle_dataset_op.cc:392] Filling up shuffle buffer (this may take a while): 4451715 of 5879992\n",
      "2023-01-28 06:19:02.447846: I tensorflow/core/kernels/data/shuffle_dataset_op.cc:392] Filling up shuffle buffer (this may take a while): 5795953 of 5879992\n",
      "2023-01-28 06:19:03.222693: I tensorflow/core/kernels/data/shuffle_dataset_op.cc:417] Shuffle buffer filled.\n",
      "2023-01-28 06:19:14.552979: I tensorflow/core/kernels/data/shuffle_dataset_op.cc:392] Filling up shuffle buffer (this may take a while): 1 of 20000\n",
      "2023-01-28 06:19:14.553046: I tensorflow/core/kernels/data/shuffle_dataset_op.cc:392] Filling up shuffle buffer (this may take a while): 2 of 20000\n",
      "2023-01-28 06:19:14.553063: I tensorflow/core/kernels/data/shuffle_dataset_op.cc:392] Filling up shuffle buffer (this may take a while): 3 of 20000\n",
      "2023-01-28 06:19:14.553077: I tensorflow/core/kernels/data/shuffle_dataset_op.cc:392] Filling up shuffle buffer (this may take a while): 4 of 20000\n",
      "2023-01-28 06:19:14.553091: I tensorflow/core/kernels/data/shuffle_dataset_op.cc:392] Filling up shuffle buffer (this may take a while): 5 of 20000\n",
      "2023-01-28 06:19:14.696920: I tensorflow/core/kernels/data/shuffle_dataset_op.cc:417] Shuffle buffer filled.\n"
     ]
    },
    {
     "name": "stdout",
     "output_type": "stream",
     "text": [
      "82688/82688 [==============================] - 11653s 140ms/step - loss: 0.5279 - masked_accuracy: 0.8457 - val_loss: 0.4587 - val_masked_accuracy: 0.8658\n",
      "Epoch 3/3\n"
     ]
    },
    {
     "name": "stderr",
     "output_type": "stream",
     "text": [
      "2023-01-28 06:30:34.930874: I tensorflow/core/kernels/data/shuffle_dataset_op.cc:392] Filling up shuffle buffer (this may take a while): 1496686 of 5879992\n",
      "2023-01-28 06:30:44.930873: I tensorflow/core/kernels/data/shuffle_dataset_op.cc:392] Filling up shuffle buffer (this may take a while): 2990353 of 5879992\n",
      "2023-01-28 06:30:54.930875: I tensorflow/core/kernels/data/shuffle_dataset_op.cc:392] Filling up shuffle buffer (this may take a while): 4488804 of 5879992\n",
      "2023-01-28 06:31:04.211045: I tensorflow/core/kernels/data/shuffle_dataset_op.cc:417] Shuffle buffer filled.\n",
      "2023-01-28 06:31:04.211115: I tensorflow/core/kernels/data/shuffle_dataset_op.cc:392] Filling up shuffle buffer (this may take a while): 1 of 20000\n",
      "2023-01-28 06:31:04.211151: I tensorflow/core/kernels/data/shuffle_dataset_op.cc:392] Filling up shuffle buffer (this may take a while): 2 of 20000\n",
      "2023-01-28 06:31:04.211165: I tensorflow/core/kernels/data/shuffle_dataset_op.cc:392] Filling up shuffle buffer (this may take a while): 3 of 20000\n",
      "2023-01-28 06:31:04.324165: I tensorflow/core/kernels/data/shuffle_dataset_op.cc:417] Shuffle buffer filled.\n"
     ]
    },
    {
     "name": "stdout",
     "output_type": "stream",
     "text": [
      "82688/82688 [==============================] - ETA: 0s - loss: 0.4972 - masked_accuracy: 0.8543"
     ]
    },
    {
     "name": "stderr",
     "output_type": "stream",
     "text": [
      "2023-01-28 09:33:04.211649: I tensorflow/core/kernels/data/shuffle_dataset_op.cc:392] Filling up shuffle buffer (this may take a while): 1515884 of 5879992\n",
      "2023-01-28 09:33:14.211644: I tensorflow/core/kernels/data/shuffle_dataset_op.cc:392] Filling up shuffle buffer (this may take a while): 3028246 of 5879992\n",
      "2023-01-28 09:33:24.211648: I tensorflow/core/kernels/data/shuffle_dataset_op.cc:392] Filling up shuffle buffer (this may take a while): 4545743 of 5879992\n",
      "2023-01-28 09:33:33.002748: I tensorflow/core/kernels/data/shuffle_dataset_op.cc:417] Shuffle buffer filled.\n",
      "2023-01-28 09:33:43.644815: I tensorflow/core/kernels/data/shuffle_dataset_op.cc:392] Filling up shuffle buffer (this may take a while): 1 of 20000\n",
      "2023-01-28 09:33:43.644881: I tensorflow/core/kernels/data/shuffle_dataset_op.cc:392] Filling up shuffle buffer (this may take a while): 2 of 20000\n",
      "2023-01-28 09:33:43.644897: I tensorflow/core/kernels/data/shuffle_dataset_op.cc:392] Filling up shuffle buffer (this may take a while): 3 of 20000\n",
      "2023-01-28 09:33:43.644911: I tensorflow/core/kernels/data/shuffle_dataset_op.cc:392] Filling up shuffle buffer (this may take a while): 4 of 20000\n",
      "2023-01-28 09:33:43.785794: I tensorflow/core/kernels/data/shuffle_dataset_op.cc:417] Shuffle buffer filled.\n"
     ]
    },
    {
     "name": "stdout",
     "output_type": "stream",
     "text": [
      "82688/82688 [==============================] - 11666s 141ms/step - loss: 0.4972 - masked_accuracy: 0.8543 - val_loss: 0.4321 - val_masked_accuracy: 0.8734\n"
     ]
    },
    {
     "data": {
      "text/plain": [
       "<keras.callbacks.History at 0x7f3ff014cd60>"
      ]
     },
     "execution_count": 239,
     "metadata": {},
     "output_type": "execute_result"
    }
   ],
   "source": [
    "# transformer.fit(train_batches,\n",
    "#                 epochs=3,\n",
    "#                 validation_data=val_batches)"
   ]
  },
  {
   "cell_type": "markdown",
   "id": "d81a2e37-db95-43ed-89b3-2ed2ab062977",
   "metadata": {},
   "source": [
    "# 8. Save/load model\n",
    "\n",
    "The cells below are used to save (and optionally load a saved) model and then load it again (uncomment those you want to use)"
   ]
  },
  {
   "cell_type": "code",
   "execution_count": 67,
   "id": "6ed0fbb5-5f4d-4a11-8a57-2334151f3fe3",
   "metadata": {},
   "outputs": [
    {
     "data": {
      "text/plain": [
       "<tensorflow.python.checkpoint.checkpoint.CheckpointLoadStatus at 0x7feb9dbe3fd0>"
      ]
     },
     "execution_count": 67,
     "metadata": {},
     "output_type": "execute_result"
    }
   ],
   "source": [
    "# Use saved_model.save to save the whole model\n",
    "# tf.saved_model.save(transformer, export_dir='transformer')\n",
    "\n",
    "# Save the model weights only\n",
    "# transformer.save_weights(\"trasformer_weights/epoch03.ckpt\")\n",
    "\n",
    "transformer.load_weights(\"./transformer_weights/epoch03.ckpt\")"
   ]
  },
  {
   "cell_type": "code",
   "execution_count": 74,
   "id": "766f195c-5c7b-4297-8c7b-4b1910f0de85",
   "metadata": {},
   "outputs": [],
   "source": [
    "class Translator(tf.Module):\n",
    "    def __init__(self, tokenizers, transformer):\n",
    "        self.tokenizer = tokenizer\n",
    "        self.transformer = transformer\n",
    "\n",
    "    def __call__(self, sentence, max_length=MAX_TOKENS):\n",
    "\n",
    "        assert isinstance(sentence, tf.Tensor)\n",
    "        if len(sentence.shape) == 0:\n",
    "            sentence = sentence[tf.newaxis]\n",
    "\n",
    "        sentence = self.tokenizer.tokenize(sentence).to_tensor()\n",
    "\n",
    "        encoder_input = sentence\n",
    "\n",
    "        start_end = self.tokenizer.tokenize(['\\t\\n'])[0]\n",
    "        start = start_end[0][tf.newaxis]\n",
    "        end = start_end[1][tf.newaxis]\n",
    "\n",
    "        # `tf.TensorArray` is required here (instead of a Python list), so that the\n",
    "        # dynamic-loop can be traced by `tf.function`.\n",
    "        output_array = tf.TensorArray(dtype=tf.int32, size=0, dynamic_size=True)\n",
    "        output_array = output_array.write(0, start)\n",
    "\n",
    "        for i in tf.range(max_length):\n",
    "            output = tf.transpose(output_array.stack())\n",
    "            predictions = self.transformer([encoder_input, output], training=False)\n",
    "\n",
    "            # Select the last token from the `seq_len` dimension.\n",
    "            predictions = predictions[:, -1:, :]  # Shape `(batch_size, 1, vocab_size)`.\n",
    "\n",
    "            predicted_id = tf.cast(tf.argmax(predictions, axis=-1), tf.int32)\n",
    "\n",
    "            # Concatenate the `predicted_id` to the output which is given to the\n",
    "            # decoder as its input.\n",
    "            output_array = output_array.write(i+1, predicted_id[0], tf.int32)\n",
    "\n",
    "            if predicted_id == end:\n",
    "                break\n",
    "\n",
    "        output = tf.transpose(output_array.stack())\n",
    "        # The output shape is `(1, tokens)`.\n",
    "        text = tokenizer.detokenize(output)[0]  # Shape: `()`.\n",
    "\n",
    "        tokens = tf.convert_to_tensor(list(text.numpy().decode(\"utf-8\"))) #tokenizers.en.lookup(output)[0]\n",
    "\n",
    "        # `tf.function` prevents us from using the attention_weights that were\n",
    "        # calculated on the last iteration of the loop.\n",
    "        # So, recalculate them outside the loop.\n",
    "        self.transformer([encoder_input, output[:,:-1]], training=False)\n",
    "        attention_weights = self.transformer.decoder.last_attn_scores\n",
    "\n",
    "        return text, tokens, attention_weights\n",
    "    \n",
    "\n",
    "def print_translation(filename, predicted_movietitle, ground_truth):\n",
    "    print(f'{\"Input:\":15s}: {filename}')\n",
    "    print(f'{\"Prediction\":15s}: {predicted_movietitle.numpy().decode(\"utf-8\")}')\n",
    "    print(f'{\"Ground truth\":15s}: {ground_truth}')"
   ]
  },
  {
   "cell_type": "code",
   "execution_count": 75,
   "id": "dd1abe50-3534-4f6d-b01b-5f2775984a99",
   "metadata": {},
   "outputs": [],
   "source": [
    "translator = Translator(tokenizer, transformer)"
   ]
  },
  {
   "cell_type": "code",
   "execution_count": 76,
   "id": "e0bc9943-7783-417f-96d4-ebbcdbdd7813",
   "metadata": {},
   "outputs": [
    {
     "name": "stdout",
     "output_type": "stream",
     "text": [
      "Input:         : Hellhole.2022.720p.WEBDL.English.Dubbed\n",
      "Prediction     : \tHellhole\n",
      "\n",
      "Ground truth   : Hellhole\n"
     ]
    }
   ],
   "source": [
    "filename = 'Hellhole.2022.720p.WEBDL.English.Dubbed'\n",
    "movietitle = 'Hellhole'\n",
    "\n",
    "predicted_movietitle, predicted_tokens, attention_weights = translator(tf.constant(filename))\n",
    "print_translation(filename, predicted_movietitle, movietitle)"
   ]
  },
  {
   "cell_type": "code",
   "execution_count": 127,
   "id": "9f230a71-077c-48f6-90ba-c0258e11a451",
   "metadata": {},
   "outputs": [
    {
     "name": "stderr",
     "output_type": "stream",
     "text": [
      "2023-01-30 22:19:12.033181: I tensorflow/core/kernels/data/shuffle_dataset_op.cc:392] Filling up shuffle buffer (this may take a while): 3055120 of 5941106\n",
      "2023-01-30 22:19:21.593444: I tensorflow/core/kernels/data/shuffle_dataset_op.cc:417] Shuffle buffer filled.\n"
     ]
    },
    {
     "name": "stdout",
     "output_type": "stream",
     "text": [
      "Input:         : b'\\tMerlin - 03x12 - The coming of arthur.FOV\\n'\n",
      "Prediction     : \tMerlin The Coming of Arthur\n",
      "\n",
      "Ground truth   : b'\\tMerlin The Coming of Arthur: Part One\\n'\n",
      "---\n",
      "Input:         : b'\\t 30 Rock - Rockefeller Plaza 30 - Napisy PL Sezon 6 HDTV XviD S06E12\\n'\n",
      "Prediction     : \t30 Rock Napisy Planet of the Sun\n",
      "\n",
      "Ground truth   : b\"\\t30 Rock St. Patrick's Day\\n\"\n",
      "---\n",
      "Input:         : b'\\t Game.of.Silence.S01E09.WEB-DL.XviD-FUM[ettv]\\n'\n",
      "Prediction     : \tGame of Silence The Secret of Silence\n",
      "\n",
      "Ground truth   : b'\\tGame of Silence The Truth\\n'\n",
      "---\n",
      "Input:         : b'\\t Six.Feet.Under.S04E01.DVDRiP.x264-DBO\\n'\n",
      "Prediction     : \tSix Feet Under The Secret of the Sin\n",
      "\n",
      "Ground truth   : b'\\tSix Feet Under Falling into Place\\n'\n",
      "---\n",
      "Input:         : b'\\t720p.BluRay.x264-SPARKS (COLOR Hearing Impaired)\\n'\n",
      "Prediction     : \tThe Strangers\n",
      "\n",
      "Ground truth   : b'\\tA Million Ways to Die in the West\\n'\n",
      "---\n",
      "Input:         : b'\\tBetter.Call.Saul.S04E01.Smoke.720p.NF.WEBRip.DDP5.1.x264-NTb\\n'\n",
      "Prediction     : \tBetter Call Saul Smoke\n",
      "\n",
      "Ground truth   : b'\\tBetter Call Saul Smoke\\n'\n",
      "---\n",
      "Input:         : b'\\tWonder Woman 2x16 - Death in Disguise.mkv\\n'\n",
      "Prediction     : \tWonder Woman Death in Disguise\n",
      "\n",
      "Ground truth   : b'\\tWonder Woman Death in Disguise\\n'\n",
      "---\n",
      "Input:         : b'\\tHist\\xc3\\xb2ria de la meva mort (Story of my death)\\n'\n",
      "Prediction     : \tStory of My Death\n",
      "\n",
      "Ground truth   : b'\\tHistoria de la meva mort\\n'\n",
      "---\n",
      "Input:         : b'\\t 24.S06E04.Day.6_.9_00.A.M..-.10_00.A.M..720p.WEB-DL.DD5.1.H.264\\n'\n",
      "Prediction     : \t24 Day 6: 9:00 a.m.-10:00 a.m.\n",
      "\n",
      "Ground truth   : b'\\t24 Day 6: 9:00 a.m.-10:00 a.m.\\n'\n",
      "---\n",
      "Input:         : b'\\tHDTV.x264-RiVER\\n'\n",
      "Prediction     : \tThe Big Bang Theory The Convergence Interview\n",
      "\n",
      "Ground truth   : b'\\tBluestone 42 Episode #1.8\\n'\n",
      "---\n"
     ]
    }
   ],
   "source": [
    "for filenames, movietitles in test_ds.batch(10).take(1):\n",
    "    for i in range(len(filenames)):\n",
    "        filename = filenames[i]\n",
    "        movietitle = movietitles[i]\n",
    "\n",
    "        predicted_movietitle, predicted_tokens, attention_weights = translator(tf.constant(filename))\n",
    "        print_translation(filename, predicted_movietitle, movietitle)        \n",
    "        print(\"---\")"
   ]
  },
  {
   "cell_type": "markdown",
   "id": "ae22840c-5de5-49bd-a97c-4fb68871bfa1",
   "metadata": {},
   "source": [
    "# Show attention weights"
   ]
  },
  {
   "cell_type": "code",
   "execution_count": 94,
   "id": "1b965c9e-ada9-4c2e-b616-504d3ad9b4b4",
   "metadata": {},
   "outputs": [
    {
     "name": "stdout",
     "output_type": "stream",
     "text": [
      "Input:         : \t Elite.S02E03.36.hours.missing.720p.NF.WEB DL.DDP5.1.x264 MZABI\n",
      "\n",
      "Prediction     : \tElite 36 horas desaparecido\n",
      "\n",
      "Ground truth   : \tElite 36 horas desaparecido\n",
      "\n"
     ]
    }
   ],
   "source": [
    "sentence = '\\t Elite.S02E03.36.hours.missing.720p.NF.WEB DL.DDP5.1.x264 MZABI\\n'\n",
    "ground_truth = \"\\tElite 36 horas desaparecido\\n\"\n",
    "\n",
    "translated_text, translated_tokens, attention_weights = translator(\n",
    "    tf.constant(sentence))\n",
    "print_translation(sentence, translated_text, ground_truth)"
   ]
  },
  {
   "cell_type": "code",
   "execution_count": 95,
   "id": "0839611c-e113-48eb-9787-e1b0b16350f2",
   "metadata": {},
   "outputs": [],
   "source": [
    "def plot_attention_head(in_tokens, translated_tokens, attention):\n",
    "    # The model didn't generate `<START>` in the output. Skip it.\n",
    "    translated_tokens = translated_tokens[1:]\n",
    "\n",
    "    ax = plt.gca()\n",
    "    # ax.figure.set_size_inches(10, 10)\n",
    "    ax.matshow(attention)\n",
    "    ax.set_xticks(range(len(in_tokens)))\n",
    "    ax.set_yticks(range(len(translated_tokens)))\n",
    "\n",
    "    labels = [label.decode('utf-8') for label in in_tokens.numpy()]\n",
    "    ax.set_xticklabels(\n",
    "      labels) #, rotation=90)\n",
    "\n",
    "    labels = [label.decode('utf-8') for label in translated_tokens.numpy()]\n",
    "    ax.set_yticklabels(labels)\n"
   ]
  },
  {
   "cell_type": "code",
   "execution_count": 96,
   "id": "1b05d189-ddb8-4f6b-80b9-0c7563711afc",
   "metadata": {},
   "outputs": [
    {
     "data": {
      "text/plain": [
       "TensorShape([28, 65])"
      ]
     },
     "execution_count": 96,
     "metadata": {},
     "output_type": "execute_result"
    }
   ],
   "source": [
    "head = 0\n",
    "# Shape: `(batch=1, num_heads, seq_len_q, seq_len_k)`.\n",
    "attention_heads = tf.squeeze(attention_weights, 0)\n",
    "attention = attention_heads[head]\n",
    "attention.shape"
   ]
  },
  {
   "cell_type": "code",
   "execution_count": 97,
   "id": "e0a59183-27d9-41d1-b054-2bc486209e0d",
   "metadata": {},
   "outputs": [
    {
     "data": {
      "text/plain": [
       "<tf.Tensor: shape=(65,), dtype=string, numpy=\n",
       "array([b'\\t', b' ', b'E', b'l', b'i', b't', b'e', b'.', b'S', b'0', b'2',\n",
       "       b'E', b'0', b'3', b'.', b'3', b'6', b'.', b'h', b'o', b'u', b'r',\n",
       "       b's', b'.', b'm', b'i', b's', b's', b'i', b'n', b'g', b'.', b'7',\n",
       "       b'2', b'0', b'p', b'.', b'N', b'F', b'.', b'W', b'E', b'B', b' ',\n",
       "       b'D', b'L', b'.', b'D', b'D', b'P', b'5', b'.', b'1', b'.', b'x',\n",
       "       b'2', b'6', b'4', b' ', b'M', b'Z', b'A', b'B', b'I', b'\\n'],\n",
       "      dtype=object)>"
      ]
     },
     "execution_count": 97,
     "metadata": {},
     "output_type": "execute_result"
    }
   ],
   "source": [
    "in_tokens = tf.convert_to_tensor(list(sentence))\n",
    "in_tokens"
   ]
  },
  {
   "cell_type": "code",
   "execution_count": 98,
   "id": "0ea3d18c-e7d4-42de-a461-0e3ae72c7ebc",
   "metadata": {},
   "outputs": [
    {
     "data": {
      "text/plain": [
       "<tf.Tensor: shape=(29,), dtype=string, numpy=\n",
       "array([b'\\t', b'E', b'l', b'i', b't', b'e', b' ', b'3', b'6', b' ', b'h',\n",
       "       b'o', b'r', b'a', b's', b' ', b'd', b'e', b's', b'a', b'p', b'a',\n",
       "       b'r', b'e', b'c', b'i', b'd', b'o', b'\\n'], dtype=object)>"
      ]
     },
     "execution_count": 98,
     "metadata": {},
     "output_type": "execute_result"
    }
   ],
   "source": [
    "translated_tokens"
   ]
  },
  {
   "cell_type": "code",
   "execution_count": 99,
   "id": "b0a2fa61-55ef-415e-902a-e737a097613e",
   "metadata": {},
   "outputs": [
    {
     "data": {
      "image/png": "[encoded data removed]",
      "text/plain": [
       "<Figure size 640x480 with 1 Axes>"
      ]
     },
     "metadata": {},
     "output_type": "display_data"
    }
   ],
   "source": [
    "plot_attention_head(in_tokens, translated_tokens, attention)"
   ]
  },
  {
   "cell_type": "code",
   "execution_count": 120,
   "id": "a7a77125-c2b0-486e-b10b-757d472389b2",
   "metadata": {},
   "outputs": [],
   "source": [
    "def plot_attention_weights(sentence, translated_tokens, attention_heads):\n",
    "    in_tokens = tf.convert_to_tensor(list(sentence))\n",
    "    \n",
    "    fig = plt.figure(figsize=(10, 10))\n",
    "\n",
    "    for h, head in enumerate(attention_heads):\n",
    "        ax = fig.add_subplot(4, 2, h+1)\n",
    "        plot_attention_head(in_tokens, translated_tokens, head)\n",
    "        ax.set_xlabel(f'Head {h+1}')\n",
    "\n",
    "    plt.tight_layout()\n",
    "    plt.show()"
   ]
  },
  {
   "cell_type": "code",
   "execution_count": 121,
   "id": "04038e3f-f3e4-4cf6-8891-77d80d4d40e3",
   "metadata": {},
   "outputs": [
    {
     "name": "stderr",
     "output_type": "stream",
     "text": [
      "/var/folders/3w/1spf9bkn2gjbc8026chntkb80000gn/T/ipykernel_56483/1771425617.py:11: UserWarning: Glyph 9 (\t) missing from current font.\n",
      "  plt.tight_layout()\n"
     ]
    },
    {
     "data": {
      "image/png": "[encoded data removed]",
      "text/plain": [
       "<Figure size 1000x1000 with 8 Axes>"
      ]
     },
     "metadata": {},
     "output_type": "display_data"
    }
   ],
   "source": [
    "plot_attention_weights(sentence,\n",
    "                       translated_tokens,\n",
    "                       attention_weights[0])"
   ]
  },
  {
   "cell_type": "code",
   "execution_count": 122,
   "id": "e4ce72cf-46bb-4a8e-b845-7ccb02436967",
   "metadata": {},
   "outputs": [],
   "source": [
    "class ExportTranslator(tf.Module):\n",
    "    def __init__(self, translator):\n",
    "        self.translator = translator\n",
    "\n",
    "    # @tf.function(input_signature=[tf.TensorSpec(shape=[], dtype=tf.string)])\n",
    "    def __call__(self, sentence):\n",
    "        (result,\n",
    "         tokens,\n",
    "         attention_weights) = self.translator(tf.constant(sentence), max_length=MAX_TOKENS)\n",
    "\n",
    "        return result"
   ]
  },
  {
   "cell_type": "code",
   "execution_count": 123,
   "id": "f0734152-9902-4839-8c5f-99a08dcde958",
   "metadata": {},
   "outputs": [],
   "source": [
    "my_translator = ExportTranslator(translator)"
   ]
  },
  {
   "cell_type": "code",
   "execution_count": 126,
   "id": "16c00da2-8977-44b6-b404-c6be83c5c61d",
   "metadata": {},
   "outputs": [
    {
     "data": {
      "text/plain": [
       "b'\\tBig Mouth\\n'"
      ]
     },
     "execution_count": 126,
     "metadata": {},
     "output_type": "execute_result"
    }
   ],
   "source": [
    "my_translator(b'\\tBig.Mouth.2022.1080p.DSNP.WEB-DL.AAC2.0.H.264-ECLiPSE\\n').numpy()"
   ]
  },
  {
   "cell_type": "code",
   "execution_count": 393,
   "id": "9d30c210-6300-474f-88dd-ed125adabea6",
   "metadata": {},
   "outputs": [],
   "source": [
    "### A couple of ways to save the translator model\n",
    "\n",
    "# 1) use tf.saved_model\n",
    "# tf.saved_model.save(my_translator, export_dir='my_translator')\n",
    "\n",
    "# 2) use model.save\n",
    "##   NOTE: This one breaks due to custom LR schedule\n",
    "##   TODO: fix by defining config as\n",
    "##   def get_config(self):\n",
    "##      config = {\n",
    "##      'd_model': self.d_model,\n",
    "##      'warmup_steps': self.warmup_steps,\n",
    "##\n",
    "##       }\n",
    "##      return config\n",
    "\n",
    "# !mkdir -p \"saved_model\"\n",
    "# transformer.save(\"saved_model/epoch03\")"
   ]
  },
  {
   "cell_type": "code",
   "execution_count": null,
   "id": "fd6db193-dc4d-447a-ad5c-6ae21aaa5444",
   "metadata": {},
   "outputs": [],
   "source": []
  }
 ],
 "metadata": {
  "kernelspec": {
   "display_name": "Python 3 (ipykernel)",
   "language": "python",
   "name": "python3"
  },
  "language_info": {
   "codemirror_mode": {
    "name": "ipython",
    "version": 3
   },
   "file_extension": ".py",
   "mimetype": "text/x-python",
   "name": "python",
   "nbconvert_exporter": "python",
   "pygments_lexer": "ipython3",
   "version": "3.9.5"
  }
 },
 "nbformat": 4,
 "nbformat_minor": 5
}
